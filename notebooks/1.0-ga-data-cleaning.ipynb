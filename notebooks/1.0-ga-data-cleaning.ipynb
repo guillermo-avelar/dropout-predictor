{
 "cells": [
  {
   "cell_type": "markdown",
   "metadata": {},
   "source": [
    "# __Imports__"
   ]
  },
  {
   "cell_type": "code",
   "execution_count": 365,
   "metadata": {},
   "outputs": [],
   "source": [
    "import pandas as pd\n",
    "import numpy as np\n",
    "import os\n",
    "import json"
   ]
  },
  {
   "cell_type": "markdown",
   "metadata": {},
   "source": [
    "# __Data Import and Shape__"
   ]
  },
  {
   "cell_type": "markdown",
   "metadata": {},
   "source": [
    "<a href=\"../data/raw/data.csv\">data.csv</a> is a pre-processed dataset formed from the merge of <a href=\"../data/raw/data.csv\">metrics.csv</a>, <a>survey.csv</a>, and <a href=\"../data/raw/data.csv\">violence.csv</a>. It was pre-processed in Excel due to original databases not being in correct tabular format (multiple rows for column titles)."
   ]
  },
  {
   "cell_type": "code",
   "execution_count": 366,
   "metadata": {},
   "outputs": [
    {
     "name": "stderr",
     "output_type": "stream",
     "text": [
      "C:\\Users\\Jose Avelar\\AppData\\Local\\Temp\\ipykernel_25292\\2623336348.py:3: DtypeWarning: Columns (16,17,18,19,20,21,22,23,165) have mixed types. Specify dtype option on import or set low_memory=False.\n",
      "  df = pd.read_csv(relative_path)\n"
     ]
    },
    {
     "data": {
      "text/plain": [
       "(6025, 174)"
      ]
     },
     "execution_count": 366,
     "metadata": {},
     "output_type": "execute_result"
    }
   ],
   "source": [
    "relative_path = os.path.join('..', 'data', 'raw', 'data.csv')\n",
    "\n",
    "df = pd.read_csv(relative_path)\n",
    "df.shape"
   ]
  },
  {
   "cell_type": "markdown",
   "metadata": {},
   "source": [
    "# __Column Types__"
   ]
  },
  {
   "cell_type": "markdown",
   "metadata": {},
   "source": [
    "Assing the majority type to each column with mixed types."
   ]
  },
  {
   "cell_type": "code",
   "execution_count": 367,
   "metadata": {},
   "outputs": [
    {
     "name": "stdout",
     "output_type": "stream",
     "text": [
      "<class 'float'>\n",
      "<class 'float'>\n",
      "<class 'float'>\n",
      "<class 'float'>\n",
      "<class 'float'>\n",
      "<class 'float'>\n",
      "<class 'float'>\n",
      "<class 'float'>\n",
      "<class 'float'>\n"
     ]
    }
   ],
   "source": [
    "for column in [16, 17, 18, 19, 20, 21, 22, 23, 165]:\n",
    "    majority_type = df.iloc[:,column].apply(lambda x: type(x)).value_counts().idxmax()\n",
    "    print(majority_type)"
   ]
  },
  {
   "cell_type": "code",
   "execution_count": 368,
   "metadata": {},
   "outputs": [],
   "source": [
    "for column in [16, 17, 18, 19, 20, 21, 22, 23, 165]:\n",
    "    df.iloc[:,column] = pd.to_numeric(df.iloc[:,column], errors='coerce')"
   ]
  },
  {
   "cell_type": "markdown",
   "metadata": {},
   "source": [
    "# __Column Names__"
   ]
  },
  {
   "cell_type": "code",
   "execution_count": 369,
   "metadata": {},
   "outputs": [
    {
     "data": {
      "text/plain": [
       "{'A.02. Código del centro educativo según último acuerdo de acreditación:': None,\n",
       " 'A.01. Nombre del centro educativo, según último acuerdo de acreditacion:': None,\n",
       " 'A.03. Distrito educativo según última organización de la Dirección Departamental de Educación:': None,\n",
       " 'A.04. Sector:': None,\n",
       " 'A.04.a. Si marco sector privado, ¿Recibe Subsidio?:': None,\n",
       " 'A.05. Organismo de administración:': None,\n",
       " 'A.06. Zona:': None,\n",
       " 'Código del Departamento': None,\n",
       " 'A.07. Departamento:': None,\n",
       " 'Código del Municipio': None,\n",
       " 'A.08. Municipio:': None,\n",
       " 'A.09. Nombre del cantón:': None,\n",
       " 'A.10. Nombre del caserío:': None,\n",
       " 'A.11. Dirección actual:': None,\n",
       " 'A.12. ¿El centro educativo, se encuentra ubicado en una comunidad indígena?': None,\n",
       " 'B.01. Proporcionó estos datos:': None,\n",
       " 'Apoyo que recibe: Asistencia Técnica;No recibe apoyo': None,\n",
       " 'Apoyo que recibe: Económico Monetario;No recibe apoyo': None,\n",
       " 'Apoyo que recibe: Material Didáctico;No recibe apoyo': None,\n",
       " 'Apoyo que recibe: Mobiliario y Equipo;No recibe apoyo': None,\n",
       " 'Apoyo que recibe: Infraestructura;No recibe apoyo': None,\n",
       " 'Apoyo que recibe: Remuneración a Docentes;No recibe apoyo': None,\n",
       " 'Apoyo que recibe: Materiales de Construcción;No recibe apoyo': None,\n",
       " 'Apoyo que recibe: Alimentos;No recibe apoyo': None,\n",
       " 'E.01.b. Otros ingresos monetarios que el centro educativo percibió durante el año 2017:;Cafetines': None,\n",
       " 'E.01.b. Otros ingresos monetarios que el centro educativo percibió durante el año 2017:; Aportes voluntarios': None,\n",
       " 'E.01.b. Otros ingresos monetarios que el centro educativo percibió durante el año 2017:;Actividades Propias': None,\n",
       " 'E.01.b. Otros ingresos monetarios que el centro educativo percibió durante el año 2017:; Donaciones': None,\n",
       " 'F.01. La condición de posesión de las instalaciones e infraestructura en que funciona el centro educativo es en calidad de:; En propiedad': None,\n",
       " 'F.02.a. Especifique la fuente utilizada para el abastecimiento de agua en el centro educativo;Cañería interna al centro educativo': None,\n",
       " 'F.02.a. Especifique la fuente utilizada para el abastecimiento de agua en el centro educativo;Acarreo (río, lago, nacimiento de agua)': None,\n",
       " 'F.02.a. Especifique la fuente utilizada para el abastecimiento de agua en el centro educativo;Aguas lluvias (cisterna o tanque)': None,\n",
       " 'F.02.a. Especifique la fuente utilizada para el abastecimiento de agua en el centro educativo;Pila pública': None,\n",
       " 'F.02.a. Especifique la fuente utilizada para el abastecimiento de agua en el centro educativo;Pozo': None,\n",
       " 'F.02.a. Especifique la fuente utilizada para el abastecimiento de agua en el centro educativo;Pipa': None,\n",
       " 'F.03.a. ¿Posee e C.E. instalaciones eléctricas?': None,\n",
       " 'F03.a.1. Si cuenta con instalación eléctrica, ¿funciona?': None,\n",
       " 'F.04.a. ¿Posee el C.E. servicios sanitarios?': None,\n",
       " 'F.04.a.1. Si posee servicios sanitarios, estos se encuentran separados por sexo.': None,\n",
       " 'F.05. Cantidad de aulas del centro educativo, según su uso.;F05_Cantidad de aulas construidas para impartir clases, utilizadas para dicho fin': None,\n",
       " 'F.05. Cantidad de aulas del centro educativo, según su uso.;F05_Cantidad de aulas construidas para impartir clases, pero utilizadas para otros fines': None,\n",
       " 'F.05. Cantidad de aulas del centro educativo, según su uso.;F05_Cantidad de aulas construidas para impartir clases, no utilizadas (vacías, disponibles)': None,\n",
       " 'F.05. Cantidad de aulas del centro educativo, según su uso.;F05_Cantidad de aulas informáticas o centros de cómputo': None,\n",
       " 'F.05. Cantidad de aulas del centro educativo, según su uso.;F05_Cantidad de aulas provisionales (aulas temporales construidas con lámina, cartón, etc.)': None,\n",
       " 'F.05. Cantidad de aulas del centro educativo, según su uso.;F05_Cantidad de otros tipos de espacios (pasillo, bodegas, salas de maestros, corredor, etc.)': None,\n",
       " 'F.06. Condiciones de accesibilidad para estudiantes con necesidades especiales;F.06.a. Especifique las condiciones con las que cuenta el centro educativo: Rampa': None,\n",
       " 'F.06. Condiciones de accesibilidad para estudiantes con necesidades especiales;F.06.a. Especifique las condiciones con las que cuenta el centro educativo: Pasamanos': None,\n",
       " 'F.06. Condiciones de accesibilidad para estudiantes con necesidades especiales;F.06.a. Especifique las condiciones con las que cuenta el centro educativo: Sanitarios Especiales': None,\n",
       " 'F.06. Condiciones de accesibilidad para estudiantes con necesidades especiales;F.06.a. Especifique las condiciones con las que cuenta el centro educativo: No Posee': None,\n",
       " 'F.07.a. ¿Este centro educativo cuenta con computadoras (De escritorio, laptop, lempitas u otras) para uso de estudiantes?': None,\n",
       " 'Alumnos que reciben formacion o clases de computacion': None,\n",
       " 'G.01.a ¿Posee servicio de internet el centro educativo?': None,\n",
       " 'H.01. Poseen Computadora de escritorio y en que condición ?;\\nBuenas -\\nPropias del CE': None,\n",
       " 'H.01. Poseen Computadora de escritorio y en que condición ?;\\nMalas - \\nPropias del CE': None,\n",
       " 'H.01. Poseen Computadora de escritorio y en que condición ?;\\nArrendadas': None,\n",
       " 'H.01. Poseen Computadora de escritorio y en que condición ?;\\nUtilizadas por los estudiantes': None,\n",
       " 'H.01. Poseen Computadora Portátil (laptop, OLPC, Lempita, Netbook, Minilaptop, Tablet) y en que condición;Buenas -\\nPropias del CE': None,\n",
       " 'H.01. Poseen Computadora Portátil (laptop, OLPC, Lempita, Netbook, Minilaptop, Tablet) y en que condición;Malas - \\nPropias del CE': None,\n",
       " 'H.01. Poseen Computadora Portátil (laptop, OLPC, Lempita, Netbook, Minilaptop, Tablet) y en que condición;Arrendadas': None,\n",
       " 'H.01. Poseen Computadora Portátil (laptop, OLPC, Lempita, Netbook, Minilaptop, Tablet) y en que condición;Utilizadas por los estudiantes': None,\n",
       " 'H.01. poseen Impresoras y en que condición ?;Buenas -\\nPropias del CE': None,\n",
       " 'H.01. poseen Impresoras y en que condición ?;Malas - \\nPropias del CE': None,\n",
       " 'H.01. poseen Impresoras y en que condición ?;Arrendadas': None,\n",
       " 'H.01. poseen Impresoras y en que condición ?;Utilizadas por los estudiantes': None,\n",
       " 'H.01. poseen Scanner y en que condición ?;Buenas -\\nPropias del CE': None,\n",
       " 'H.01. poseen Scanner y en que condición ?;Malas - \\nPropias del CE': None,\n",
       " 'H.01. poseen Scanner y en que condición ?;Arrendadas': None,\n",
       " 'H.01. poseen Scanner y en que condición ?;Utilizadas por los estudiantes': None,\n",
       " 'H.01. Poseen Proyector de cañón y en que condición ?;Buenas -\\nPropias del CE': None,\n",
       " 'H.01. Poseen Proyector de cañón y en que condición ?;Malas - \\nPropias del CE': None,\n",
       " 'H.01. Poseen Proyector de cañón y en que condición ?;Arrendadas': None,\n",
       " 'H.01. Poseen Proyector de cañón y en que condición ?;Utilizadas por los estudiantes': None,\n",
       " 'H.01. Poseen  Televisores y en que condición ?;Buenas -\\nPropias del CE': None,\n",
       " 'H.01. Poseen  Televisores y en que condición ?;Malas - \\nPropias del CE': None,\n",
       " 'H.01. Poseen  Televisores y en que condición ?;Arrendadas': None,\n",
       " 'H.01. Poseen  Televisores y en que condición ?;Utilizadas por los estudiantes': None,\n",
       " 'H.01. Poseen Radiograbadora y en que condición ?;Buenas -\\nPropias del CE': None,\n",
       " 'H.01. Poseen Radiograbadora y en que condición ?;Malas - \\nPropias del CE': None,\n",
       " 'H.01. Poseen Radiograbadora y en que condición ?;Arrendadas': None,\n",
       " 'H.01. Poseen Radiograbadora y en que condición ?;Utilizadas por los estudiantes': None,\n",
       " 'H.01. Poseen Reproductor de video DVD y en que condición ?;Buenas -\\nPropias del CE': None,\n",
       " 'H.01. Poseen Reproductor de video DVD y en que condición ?;Malas - \\nPropias del CE': None,\n",
       " 'H.01. Poseen Reproductor de video DVD y en que condición ?;Arrendadas': None,\n",
       " 'H.01. Poseen Reproductor de video DVD y en que condición ?;Utilizadas por los estudiantes': None,\n",
       " 'H.01. Poseen Micrófono de computadora y en que condición ?;Buenas -\\nPropias del CE': None,\n",
       " 'H.01. Poseen Micrófono de computadora y en que condición ?;Malas - \\nPropias del CE': None,\n",
       " 'H.01. Poseen Micrófono de computadora y en que condición ?;Arrendadas': None,\n",
       " 'H.01. Poseen Micrófono de computadora y en que condición ?;Utilizadas por los estudiantes': None,\n",
       " 'H.01. Poseen Parlantes de computadora y en que condición ?;Buenas -\\nPropias del CE': None,\n",
       " 'H.01. Poseen Parlantes de computadora y en que condición ?;Malas - \\nPropias del CE': None,\n",
       " 'H.01. Poseen Parlantes de computadora y en que condición ?;Arrendadas': None,\n",
       " 'H.01. Poseen Parlantes de computadora y en que condición ?;Utilizadas por los estudiantes': None,\n",
       " 'H.01. Poseen Cámara digital fotográfica y en que condición ?;Buenas -\\nPropias del CE': None,\n",
       " 'H.01. Poseen Cámara digital fotográfica y en que condición ?;Malas - \\nPropias del CE': None,\n",
       " 'H.01. Poseen Cámara digital fotográfica y en que condición ?;Arrendadas': None,\n",
       " 'H.01. Poseen Cámara digital fotográfica y en que condición ?;Utilizadas por los estudiantes': None,\n",
       " 'H.01. Poseen Cámara de video y en que condición ?;Buenas -\\nPropias del CE': None,\n",
       " 'H.01. Poseen Cámara de video y en que condición ?;Malas - \\nPropias del CE': None,\n",
       " 'H.01. Poseen Cámara de video y en que condición ?;Arrendadas': None,\n",
       " 'H.01. Poseen Cámara de video y en que condición ?;Utilizadas por los estudiantes': None,\n",
       " 'H.01. Poseen Cámara web y en que condición ?;Buenas -\\nPropias del CE': None,\n",
       " 'H.01. Poseen Cámara web y en que condición ?;Malas - \\nPropias del CE': None,\n",
       " 'H.01. Poseen Cámara web y en que condición ?;Arrendadas': None,\n",
       " 'H.01. Poseen Cámara web y en que condición ?;Utilizadas por los estudiantes': None,\n",
       " 'H.01.Poseen Fotocopiadora y en que condición ?;Buenas -\\nPropias del CE': None,\n",
       " 'H.01.Poseen Fotocopiadora y en que condición ?;Malas - \\nPropias del CE': None,\n",
       " 'H.01.Poseen Fotocopiadora y en que condición ?;Arrendadas': None,\n",
       " 'H.01.Poseen Fotocopiadora y en que condición ?;Utilizadas por los estudiantes': None,\n",
       " 'H.01.Poseen Kit de robótica Lego y en que condición ?;Buenas -\\nPropias del CE': None,\n",
       " 'H.01.Poseen Kit de robótica Lego y en que condición ?;Malas - \\nPropias del CE': None,\n",
       " 'H.01.Poseen Kit de robótica Lego y en que condición ?;Arrendadas': None,\n",
       " 'H.01.Poseen Kit de robótica Lego y en que condición ?;Utilizadas por los estudiantes': None,\n",
       " 'H.01. Poseen kit de robótica Rex y en que condición ?;Buenas -\\nPropias del CE': None,\n",
       " 'H.01. Poseen kit de robótica Rex y en que condición ?;Malas - \\nPropias del CE': None,\n",
       " 'H.01. Poseen kit de robótica Rex y en que condición ?;Arrendadas': None,\n",
       " 'H.01. Poseen kit de robótica Rex y en que condición ?;Utilizadas por los estudiantes': None,\n",
       " 'H.01. Poseen Kit de robótica NXT y en que condición ?;Buenas -\\nPropias del CE': None,\n",
       " 'H.01. Poseen Kit de robótica NXT y en que condición ?;Malas - \\nPropias del CE': None,\n",
       " 'H.01. Poseen Kit de robótica NXT y en que condición ?;Arrendadas': None,\n",
       " 'H.01. Poseen Kit de robótica NXT y en que condición ?;Utilizadas por los estudiantes': None,\n",
       " 'H.01. Poseen Kit de robótica EV3 y en que condición ?;Buenas -\\nPropias del CE': None,\n",
       " 'H.01. Poseen Kit de robótica EV3 y en que condición ?;Malas - \\nPropias del CE': None,\n",
       " 'H.01. Poseen Kit de robótica EV3 y en que condición ?;Arrendadas': None,\n",
       " 'H.01. Poseen Kit de robótica EV3 y en que condición ?;Utilizadas por los estudiantes': None,\n",
       " 'H.01. Poseen Kit de robótica Chumchebot y en que condición ?;Buenas -\\nPropias del CE': None,\n",
       " 'H.01. Poseen Kit de robótica Chumchebot y en que condición ?;Malas - \\nPropias del CE': None,\n",
       " 'H.01. Poseen Kit de robótica Chumchebot y en que condición ?;Arrendadas': None,\n",
       " 'H.01. Poseen Kit de robótica Chumchebot y en que condición ?;Utilizadas por los estudiantes': None,\n",
       " 'H.01. Poseen kit de robótica Make Block y en que condición ?;Buenas -\\nPropias del CE': None,\n",
       " 'H.01. Poseen kit de robótica Make Block y en que condición ?;Malas - \\nPropias del CE': None,\n",
       " 'H.01. Poseen kit de robótica Make Block y en que condición ?;Arrendadas': None,\n",
       " 'H.01. Poseen kit de robótica Make Block y en que condición ?;Utilizadas por los estudiantes': None,\n",
       " 'H.01. Poseen Otros Kit de robótica y en que condición ?;Buenas -\\nPropias del CE': None,\n",
       " 'H.01. Poseen Otros Kit de robótica y en que condición ?;Malas - \\nPropias del CE': None,\n",
       " 'H.01. Poseen Otros Kit de robótica y en que condición ?;Arrendadas': None,\n",
       " 'H.01. Poseen Otros Kit de robótica y en que condición ?;Utilizadas por los estudiantes': None,\n",
       " 'H.02. Infraestructura complementaria del Centro Escolar:; Biblioteca': None,\n",
       " 'H.02. Infraestructura complementaria del Centro Escolar:; Centro de cómputo o CRA': None,\n",
       " 'H.02. Infraestructura complementaria del Centro Escolar:; Laboratorio de ciencias': None,\n",
       " 'H.02. Infraestructura complementaria del Centro Escolar:; Aula de apoyo educativo': None,\n",
       " 'H.02. Infraestructura complementaria del Centro Escolar:;  Cancha propia de fútbol': None,\n",
       " 'H.02. Infraestructura complementaria del Centro Escolar:; Cancha propia de basquetbol': None,\n",
       " 'H.02. Infraestructura complementaria del Centro Escolar:;  Laboratorio para inglés': None,\n",
       " 'H.02. Infraestructura complementaria del Centro Escolar:;  Granja agrícola': None,\n",
       " 'H.02. Infraestructura complementaria del Centro Escolar:;  Area administrativa': None,\n",
       " 'H.02. Infraestructura complementaria del Centro Escolar:;  Sala de profesores': None,\n",
       " 'H.02. Infraestructura complementaria del Centro Escolar:;  Clínica para atender estudiantes y maestros': None,\n",
       " 'H.02. Infraestructura complementaria del Centro Escolar:;  Talleres para bachillerato industrial': None,\n",
       " 'H.02. Infraestructura complementaria del Centro Escolar:;  Clínica para bachillerato en salud': None,\n",
       " 'H.02. Infraestructura complementaria del Centro Escolar:; Salón de usos múltiples': None,\n",
       " 'H.02. Infraestructura complementaria del Centro Escolar:;Espacio recreativo (para fútbol, basquetbol, volibol o recreo en un mismo lugar)': None,\n",
       " 'H.02. Infraestructura complementaria del Centro Escolar:;  Comedor': None,\n",
       " 'H.02. Infraestructura complementaria del Centro Escolar:; Bodega': None,\n",
       " 'H.02. Infraestructura complementaria del Centro Escolar:; Cocina': None,\n",
       " 'H.02. Infraestructura complementaria del Centro Escolar:; Cocina - bodega': None,\n",
       " 'I.01. MATERNIDAD EN ADOLESCENTES 2017;I.01.a. ¿Conoció casos de estudiantes embarazadas en el centro educativo?': None,\n",
       " 'I.01.b. ¿Se realizaron acciones para prevenir los embarazos en las adolescentes?': None,\n",
       " 'I.01.b.1. Si su respuesta es Sí, ¿con qué instituciones coordinó las acciones de prevención de embarazo en las adolescentes?;Dirección Departamental de Educación': None,\n",
       " 'I.01.b.1. Si su respuesta es Sí, ¿con qué instituciones coordinó las acciones de prevención de embarazo en las adolescentes?;Unidad de Salud': None,\n",
       " 'I.01.b.1. Si su respuesta es Sí, ¿con qué instituciones coordinó las acciones de prevención de embarazo en las adolescentes?;Instituto Salvadoreño del Seguro Social (ISSS)': None,\n",
       " 'I.01.b.1. Si su respuesta es Sí, ¿con qué instituciones coordinó las acciones de prevención de embarazo en las adolescentes?;Alcaldía Municipal': None,\n",
       " 'I.01.b.1. Si su respuesta es Sí, ¿con qué instituciones coordinó las acciones de prevención de embarazo en las adolescentes?;Organizaciones no Gubernamentales (ONG)': None,\n",
       " 'J.01.1. ¿Cuenta el centro educativo con personal no docente?': None,\n",
       " 'Total Matrícula Inicial': None,\n",
       " 'Total estudiantes repetidores': None,\n",
       " 'Total estudiantes con sobreedad': None,\n",
       " 'Total Aprobados': None,\n",
       " 'Total Reprobados': None,\n",
       " 'Total Matrícula Final': None,\n",
       " 'Total Desertores': None,\n",
       " 'TOTAL HOMICIDIOS DEPARTAMENTALES': None,\n",
       " 'PORCENTAJE DE HOMICIDIOS A BASE DE POBLACION DEPARTAMENTAL': None,\n",
       " 'TOTAL HOMICIDIOS MUNICIPALES': None,\n",
       " 'PORCENTAJE DE HOMICIDIOS A BASE DE POBLACION MUNICIPAL': None}"
      ]
     },
     "execution_count": 369,
     "metadata": {},
     "output_type": "execute_result"
    }
   ],
   "source": [
    "column_names = df.columns.tolist()\n",
    "column_dict = dict.fromkeys(column_names)\n",
    "column_dict"
   ]
  },
  {
   "cell_type": "markdown",
   "metadata": {},
   "source": [
    "Extract column names to a JSON editor to manually assign names."
   ]
  },
  {
   "cell_type": "code",
   "execution_count": 370,
   "metadata": {},
   "outputs": [],
   "source": [
    "# Write column_dict to a JSON file with UTF-8 encoding\n",
    "with open('../data/interim/column_dict.json', 'w', encoding='utf-8') as f:\n",
    "    json.dump(column_dict, f, ensure_ascii=False)"
   ]
  },
  {
   "cell_type": "markdown",
   "metadata": {},
   "source": [
    "At this point, I manually assigned appropiate English names to all columns. After assignment, open JSON to reassign column names."
   ]
  },
  {
   "cell_type": "code",
   "execution_count": 371,
   "metadata": {},
   "outputs": [
    {
     "data": {
      "text/plain": [
       "['School ID',\n",
       " 'School Name',\n",
       " 'School District',\n",
       " 'Sector',\n",
       " 'If private, does it receive subsidy?',\n",
       " 'Administrative Body',\n",
       " 'Zone',\n",
       " 'Department Code',\n",
       " 'Department Name',\n",
       " 'Municipality Code',\n",
       " 'Municipality Name',\n",
       " 'Canton Name',\n",
       " 'Hamlet Name',\n",
       " 'Address',\n",
       " 'Does the school belong to an indigenous community?',\n",
       " 'Who provided the data?',\n",
       " 'Does not receive technical support.',\n",
       " 'Does not receive economic support.',\n",
       " 'Does not receive didactic material support.',\n",
       " 'Does not receive furniture and equipment support.',\n",
       " 'Does not receive infrastructure support.',\n",
       " 'Does not receive teacher remuneration support.',\n",
       " 'Does not receive construction material support.',\n",
       " 'Does not receive food support.',\n",
       " 'Funding: cafeterias.',\n",
       " 'Funding: voluntary contributions.',\n",
       " 'Funding: own activities.',\n",
       " 'Funding: donations.',\n",
       " 'Do you own your facilities?',\n",
       " 'Water source: internal pipeline.',\n",
       " 'Water source: river, lake, spring.',\n",
       " 'Water source: rainwater.',\n",
       " 'Water source: public sink.',\n",
       " 'Water source: well.',\n",
       " 'Water source: pipe.',\n",
       " 'Does the school have electrical installations?',\n",
       " 'If it posseses electrical installations, do they work?',\n",
       " 'Does the school have sanitary services?',\n",
       " 'If it posseses sanitary services, are they separated by gender?',\n",
       " 'Amount of classrooms: for teaching.',\n",
       " 'Amount of classrooms: for purposes other than teaching.',\n",
       " 'Amount of classrooms: not used.',\n",
       " 'Amount of classrooms: computer labs.',\n",
       " 'Amount of classrooms: temporary classrooms.',\n",
       " 'Amount of classrooms: other spaces.',\n",
       " 'Dissability accomodations: ramp.',\n",
       " 'Dissability accomodations: handrails.',\n",
       " 'Dissability accomodations: special bathrooms.',\n",
       " 'Dissability accomodations: none.',\n",
       " 'Does the school have computers for student use?',\n",
       " 'Amount of students receiving computer classes.',\n",
       " 'Does the school have internet service?',\n",
       " 'Desktop computers: good condition.',\n",
       " 'Desktop computers: bad condition.',\n",
       " 'Desktop computers: rented.',\n",
       " 'Desktop computers: used by students.',\n",
       " 'Laptops: good condition.',\n",
       " 'Laptops: bad condition.',\n",
       " 'Laptops: rented.',\n",
       " 'Laptops: used by students.',\n",
       " 'Printers: good condition.',\n",
       " 'Printers: bad condition.',\n",
       " 'Printers: rented.',\n",
       " 'Printers: used by students.',\n",
       " 'Scanner: good condition.',\n",
       " 'Scanner: bad condition.',\n",
       " 'Scanner: rented.',\n",
       " 'Scanner: used by students.',\n",
       " 'Projector: good condition.',\n",
       " 'Projector: bad condition.',\n",
       " 'Projector: rented.',\n",
       " 'Projector: used by students.',\n",
       " 'Television: good condition.',\n",
       " 'Television: bad condition.',\n",
       " 'Television: rented.',\n",
       " 'Television: used by students.',\n",
       " 'Recorder: good condition.',\n",
       " 'Recorder: bad condition.',\n",
       " 'Recorder: rented.',\n",
       " 'Recorder: used by students.',\n",
       " 'DVD: good condition.',\n",
       " 'DVD: bad condition.',\n",
       " 'DV: rented.',\n",
       " 'DVD: used by students.',\n",
       " 'Microphone: good condition.',\n",
       " 'Microphone: bad condition.',\n",
       " 'Microphone: rented.',\n",
       " 'Microphone: used by students.',\n",
       " 'Speakers: good condition.',\n",
       " 'Speakers: bad condition.',\n",
       " 'Speakers: rented.',\n",
       " 'Speakers: used by students.',\n",
       " 'Camera: good condition.',\n",
       " 'Camera: bad condition.',\n",
       " 'Camera: rented.',\n",
       " 'Camera: used by students.',\n",
       " 'Video camera: good condition.',\n",
       " 'Video camera: bad condition.',\n",
       " 'Video camera: rented.',\n",
       " 'Video camera: used by students.',\n",
       " 'Web camera: good condition.',\n",
       " 'Web camera: bad condition.',\n",
       " 'Web camera: rented.',\n",
       " 'Web camera: used by students.',\n",
       " 'Photocopier: good condition.',\n",
       " 'Photocopier: bad condition.',\n",
       " 'Photocopier: rented.',\n",
       " 'Photocopier: used by students.',\n",
       " 'Lego robotics kit: good condition.',\n",
       " 'Lego robotics kit: bad condition.',\n",
       " 'Lego robotics kit: rented.',\n",
       " 'Lego robotics kit: used by students.',\n",
       " 'Rex robotics kit: good condition.',\n",
       " 'Rex robotics kit: bad condition.',\n",
       " 'Rex robotics kit: rented.',\n",
       " 'Rex robotics kit: used by students.',\n",
       " 'NXT robotics kit: good condition.',\n",
       " 'NXT robotics kit: bad condition.',\n",
       " 'NXT robotics kit: rented.',\n",
       " 'NXT robotics kit: used by students.',\n",
       " 'EV3 robotics kit: good condition.',\n",
       " 'EV3 robotics kit: bad condition.',\n",
       " 'EV3 robotics kit: rented.',\n",
       " 'EV3 robotics kit: used by students.',\n",
       " 'Chumchebot robotics kit: good condition.',\n",
       " 'Chumchebot robotics kit: bad condition.',\n",
       " 'Chumchebot robotics kit: rented.',\n",
       " 'Chumchebot robotics kit: used by students.',\n",
       " 'Make Block robotics kit: good condition.',\n",
       " 'Make Block robotics kit: bad condition.',\n",
       " 'Make Block robotics kit: rented.',\n",
       " 'Make Block robotics kit: used by students.',\n",
       " 'Other robotics kit: good condition.',\n",
       " 'Other robotics kit: bad condition.',\n",
       " 'Other robotics kit: rented.',\n",
       " 'Other robotics kit: used by students.',\n",
       " 'Does the school have a library?',\n",
       " 'Does the school have a computer center?',\n",
       " 'Does the school have a science lab?',\n",
       " 'Does the school have an educational support classroom?',\n",
       " 'Does the school have a soccer field?',\n",
       " 'Does the school have a basketball court?',\n",
       " 'Does the school have an English lab?',\n",
       " 'Does the school have an agricultural farm?',\n",
       " 'Does the school have an administrative area?',\n",
       " \"Does the school have a teachers' room?\",\n",
       " 'Does the school have a clinic?',\n",
       " 'Does the school have industrial workshops?',\n",
       " 'Does the school have a health clinic?',\n",
       " 'Does the school have a multipurpose room?',\n",
       " 'Does the school have a recreational space?',\n",
       " 'Does the school have a dining room?',\n",
       " 'Does the school have a warehouse?',\n",
       " 'Does the school have a kitchen?',\n",
       " 'Does the school have a kitchen-warehouse?',\n",
       " 'Did you know of pregnant students in the school?',\n",
       " 'Did you take actions to prevent pregnancies in adolescents?',\n",
       " 'Pregnancy prevention coordination: Department of Education.',\n",
       " 'Pregnancy prevention coordination: Health Unit.',\n",
       " 'Pregnancy prevention coordination: ISSS.',\n",
       " 'Pregnancy prevention coordination: Municipal Government.',\n",
       " 'Pregnancy prevention coordination: NGOs.',\n",
       " 'Does the school have non-teaching staff?',\n",
       " 'Total initially enrolled students at the beginning of the year',\n",
       " 'Total repeating students',\n",
       " 'Total overage students',\n",
       " 'Total passing students',\n",
       " 'Total failed students',\n",
       " 'Total enrolled students at the end of the year',\n",
       " 'Total dropouts',\n",
       " 'Total departmental homicides',\n",
       " 'Percentage of homicides based on departmental population',\n",
       " 'Total municipal homicides',\n",
       " 'Percentage of homicides based on municipal population']"
      ]
     },
     "execution_count": 371,
     "metadata": {},
     "output_type": "execute_result"
    }
   ],
   "source": [
    "# Open the JSON file and make list of values\n",
    "with open('../data/interim/edit_column_dict.json', 'r', encoding='utf-8') as f:\n",
    "    edit_column_dict = json.load(f)\n",
    "\n",
    "# Assign new column names to df\n",
    "df.columns = list(edit_column_dict.values())\n",
    "\n",
    "# Print column names\n",
    "list(df.columns)"
   ]
  },
  {
   "cell_type": "markdown",
   "metadata": {},
   "source": [
    "# __Generating new features__"
   ]
  },
  {
   "cell_type": "code",
   "execution_count": 372,
   "metadata": {},
   "outputs": [],
   "source": [
    "# Make a hard copy of the dataframe\n",
    "new_df = df.copy()"
   ]
  },
  {
   "cell_type": "markdown",
   "metadata": {},
   "source": [
    "## __Explanation__"
   ]
  },
  {
   "cell_type": "markdown",
   "metadata": {},
   "source": [
    "Many of the current features can be combined linearly to form metrics that better represent the significance of a characteristics of each school."
   ]
  },
  {
   "cell_type": "markdown",
   "metadata": {},
   "source": [
    "Take for example the following features. These represent if the school has robotic kits, and if they are used by students."
   ]
  },
  {
   "cell_type": "code",
   "execution_count": 373,
   "metadata": {},
   "outputs": [
    {
     "data": {
      "text/plain": [
       "['Lego robotics kit: good condition.',\n",
       " 'Lego robotics kit: bad condition.',\n",
       " 'Lego robotics kit: rented.',\n",
       " 'Lego robotics kit: used by students.',\n",
       " 'Rex robotics kit: good condition.',\n",
       " 'Rex robotics kit: bad condition.',\n",
       " 'Rex robotics kit: rented.',\n",
       " 'Rex robotics kit: used by students.',\n",
       " 'NXT robotics kit: good condition.',\n",
       " 'NXT robotics kit: bad condition.',\n",
       " 'NXT robotics kit: rented.',\n",
       " 'NXT robotics kit: used by students.',\n",
       " 'EV3 robotics kit: good condition.',\n",
       " 'EV3 robotics kit: bad condition.',\n",
       " 'EV3 robotics kit: rented.',\n",
       " 'EV3 robotics kit: used by students.',\n",
       " 'Chumchebot robotics kit: good condition.',\n",
       " 'Chumchebot robotics kit: bad condition.',\n",
       " 'Chumchebot robotics kit: rented.',\n",
       " 'Chumchebot robotics kit: used by students.',\n",
       " 'Make Block robotics kit: good condition.',\n",
       " 'Make Block robotics kit: bad condition.',\n",
       " 'Make Block robotics kit: rented.',\n",
       " 'Make Block robotics kit: used by students.',\n",
       " 'Other robotics kit: good condition.',\n",
       " 'Other robotics kit: bad condition.',\n",
       " 'Other robotics kit: rented.',\n",
       " 'Other robotics kit: used by students.']"
      ]
     },
     "execution_count": 373,
     "metadata": {},
     "output_type": "execute_result"
    }
   ],
   "source": [
    "list(df.iloc[:10, 108:136].columns)"
   ]
  },
  {
   "cell_type": "markdown",
   "metadata": {},
   "source": [
    "From these features, we will create two features."
   ]
  },
  {
   "cell_type": "markdown",
   "metadata": {},
   "source": [
    "1. **Good condition robotic kit rate** measures the rate of good robotic kits out of all robotic kits owned by the school. A rate of 1 means that all robotic kits are in good condition, which is better.\n",
    "2. **Robotic kit usage rate** measures how many robotic kits are used by students out of all robotic kits possesed by the school. A rate of 1 means that all robotic kits owned are being used by students, which is better."
   ]
  },
  {
   "cell_type": "markdown",
   "metadata": {},
   "source": [
    "$\\text{Good condition robotic kit rate (GCRKR)} = \\frac{\\text{total robotic kits in good condition}}{\\text{total robotic kits in good condition} + \\text{total robotic kits in bad condition}} \\in [0,1]$"
   ]
  },
  {
   "cell_type": "markdown",
   "metadata": {},
   "source": [
    "$\\text{Robotic kit usage rate (RKUR)} = \\frac{\\text{total robotic used by students}}{\\text{total robotic kits in good condition} + \\text{total robotic kits in bad condition} + \\text{total rented robotic kits}} \\in [0,1]$"
   ]
  },
  {
   "cell_type": "markdown",
   "metadata": {},
   "source": [
    "## __New features__"
   ]
  },
  {
   "cell_type": "markdown",
   "metadata": {},
   "source": [
    "\\begin{equation}\n",
    "\\text{Good condition robotic kit rate (GCRKR)} = \\frac{\\text{total robotic kits in good condition}}{\\text{total robotic kits in good condition} + \\text{total robotic kits in bad condition}} \\in [0,1]\n",
    "\\end{equation}"
   ]
  },
  {
   "cell_type": "markdown",
   "metadata": {},
   "source": [
    "- **Def**: Measures the rate of good robotic kits out of all robotic kits owned by the school. A rate of 1 means that all robotic kits are in good condition, which is better.\n",
    "- **Assumptions**: We assume the denominator represents all robotic kits owned by the school."
   ]
  },
  {
   "cell_type": "markdown",
   "metadata": {},
   "source": [
    "\\begin{equation}\n",
    "\\text{Robotic kit usage rate (RKUR)} = \\frac{\\text{total robotic kits used by students}}{\\text{total robotic kits in good condition} + \\text{total robotic kits in bad condition} + \\text{total rented robotic kits}} \\in [0,1]\n",
    "\\end{equation}"
   ]
  },
  {
   "cell_type": "markdown",
   "metadata": {},
   "source": [
    "- **Def**: Measures how many robotic kits are used by students out of all robotic kits possesed by the school. A rate of 1 means that all robotic kits owned are being used by students, which is better.\n",
    "- **Assumptions**: We assume the denominator represents all robotic kits possesed by the school."
   ]
  },
  {
   "cell_type": "code",
   "execution_count": 374,
   "metadata": {},
   "outputs": [
    {
     "data": {
      "text/plain": [
       "['Lego robotics kit: good condition.',\n",
       " 'Lego robotics kit: bad condition.',\n",
       " 'Lego robotics kit: rented.',\n",
       " 'Lego robotics kit: used by students.',\n",
       " 'Rex robotics kit: good condition.',\n",
       " 'Rex robotics kit: bad condition.',\n",
       " 'Rex robotics kit: rented.',\n",
       " 'Rex robotics kit: used by students.',\n",
       " 'NXT robotics kit: good condition.',\n",
       " 'NXT robotics kit: bad condition.',\n",
       " 'NXT robotics kit: rented.',\n",
       " 'NXT robotics kit: used by students.',\n",
       " 'EV3 robotics kit: good condition.',\n",
       " 'EV3 robotics kit: bad condition.',\n",
       " 'EV3 robotics kit: rented.',\n",
       " 'EV3 robotics kit: used by students.',\n",
       " 'Chumchebot robotics kit: good condition.',\n",
       " 'Chumchebot robotics kit: bad condition.',\n",
       " 'Chumchebot robotics kit: rented.',\n",
       " 'Chumchebot robotics kit: used by students.',\n",
       " 'Make Block robotics kit: good condition.',\n",
       " 'Make Block robotics kit: bad condition.',\n",
       " 'Make Block robotics kit: rented.',\n",
       " 'Make Block robotics kit: used by students.',\n",
       " 'Other robotics kit: good condition.',\n",
       " 'Other robotics kit: bad condition.',\n",
       " 'Other robotics kit: rented.',\n",
       " 'Other robotics kit: used by students.']"
      ]
     },
     "execution_count": 374,
     "metadata": {},
     "output_type": "execute_result"
    }
   ],
   "source": [
    "list(df.iloc[:10, 108:136].columns)"
   ]
  },
  {
   "cell_type": "code",
   "execution_count": 375,
   "metadata": {},
   "outputs": [],
   "source": [
    "# Drop columns 108 to 135 from new_df\n",
    "new_df.drop([\n",
    "    'Lego robotics kit: good condition.',\n",
    "    'Lego robotics kit: bad condition.',\n",
    "    'Lego robotics kit: rented.',\n",
    "    'Lego robotics kit: used by students.',\n",
    "    'Rex robotics kit: good condition.',\n",
    "    'Rex robotics kit: bad condition.',\n",
    "    'Rex robotics kit: rented.',\n",
    "    'Rex robotics kit: used by students.',\n",
    "    'NXT robotics kit: good condition.',\n",
    "    'NXT robotics kit: bad condition.',\n",
    "    'NXT robotics kit: rented.',\n",
    "    'NXT robotics kit: used by students.',\n",
    "    'EV3 robotics kit: good condition.',\n",
    "    'EV3 robotics kit: bad condition.',\n",
    "    'EV3 robotics kit: rented.',\n",
    "    'EV3 robotics kit: used by students.',\n",
    "    'Chumchebot robotics kit: good condition.',\n",
    "    'Chumchebot robotics kit: bad condition.',\n",
    "    'Chumchebot robotics kit: rented.',\n",
    "    'Chumchebot robotics kit: used by students.',\n",
    "    'Make Block robotics kit: good condition.',\n",
    "    'Make Block robotics kit: bad condition.',\n",
    "    'Make Block robotics kit: rented.',\n",
    "    'Make Block robotics kit: used by students.',\n",
    "    'Other robotics kit: good condition.',\n",
    "    'Other robotics kit: bad condition.',\n",
    "    'Other robotics kit: rented.',\n",
    "    'Other robotics kit: used by students.'\n",
    "], inplace=True, axis=1)"
   ]
  },
  {
   "cell_type": "code",
   "execution_count": 376,
   "metadata": {},
   "outputs": [],
   "source": [
    "def compute_gcrkr_rkur(row):\n",
    "    total_rk_good = 0\n",
    "    total_rk_bad = 0\n",
    "    total_rk_rented = 0\n",
    "    total_rk_student = 0\n",
    "\n",
    "    for j in range(108, 136, 4):\n",
    "        if not np.isnan(row.iloc[j]):\n",
    "            total_rk_good += row.iloc[j]\n",
    "        if not np.isnan(row.iloc[j+1]):\n",
    "            total_rk_bad += row.iloc[j+1]\n",
    "        if not np.isnan(row.iloc[j+2]):\n",
    "            total_rk_rented += row.iloc[j+2]\n",
    "        if not np.isnan(row.iloc[j+3]):\n",
    "            total_rk_student += row.iloc[j+3]\n",
    "    \n",
    "    good_bad = total_rk_good + total_rk_bad\n",
    "    all_rk = (total_rk_good + total_rk_bad + total_rk_rented)\n",
    "\n",
    "    gcrkr = 0 if good_bad == 0 else total_rk_good / good_bad\n",
    "    rkur = 0 if all_rk == 0 else total_rk_student / all_rk\n",
    "    \n",
    "    return pd.Series([gcrkr, rkur])"
   ]
  },
  {
   "cell_type": "code",
   "execution_count": 377,
   "metadata": {},
   "outputs": [],
   "source": [
    "new_df[['GCRKR', 'RKUR']] = df.apply(compute_gcrkr_rkur, axis=1)"
   ]
  },
  {
   "cell_type": "code",
   "execution_count": 378,
   "metadata": {},
   "outputs": [
    {
     "data": {
      "text/html": [
       "<div>\n",
       "<style scoped>\n",
       "    .dataframe tbody tr th:only-of-type {\n",
       "        vertical-align: middle;\n",
       "    }\n",
       "\n",
       "    .dataframe tbody tr th {\n",
       "        vertical-align: top;\n",
       "    }\n",
       "\n",
       "    .dataframe thead th {\n",
       "        text-align: right;\n",
       "    }\n",
       "</style>\n",
       "<table border=\"1\" class=\"dataframe\">\n",
       "  <thead>\n",
       "    <tr style=\"text-align: right;\">\n",
       "      <th></th>\n",
       "      <th>GCRKR</th>\n",
       "      <th>RKUR</th>\n",
       "    </tr>\n",
       "  </thead>\n",
       "  <tbody>\n",
       "    <tr>\n",
       "      <th>0</th>\n",
       "      <td>0.0</td>\n",
       "      <td>0.0</td>\n",
       "    </tr>\n",
       "    <tr>\n",
       "      <th>1</th>\n",
       "      <td>0.0</td>\n",
       "      <td>0.0</td>\n",
       "    </tr>\n",
       "    <tr>\n",
       "      <th>2</th>\n",
       "      <td>1.0</td>\n",
       "      <td>1.0</td>\n",
       "    </tr>\n",
       "    <tr>\n",
       "      <th>3</th>\n",
       "      <td>0.0</td>\n",
       "      <td>0.0</td>\n",
       "    </tr>\n",
       "    <tr>\n",
       "      <th>4</th>\n",
       "      <td>0.0</td>\n",
       "      <td>0.0</td>\n",
       "    </tr>\n",
       "  </tbody>\n",
       "</table>\n",
       "</div>"
      ],
      "text/plain": [
       "   GCRKR  RKUR\n",
       "0    0.0   0.0\n",
       "1    0.0   0.0\n",
       "2    1.0   1.0\n",
       "3    0.0   0.0\n",
       "4    0.0   0.0"
      ]
     },
     "execution_count": 378,
     "metadata": {},
     "output_type": "execute_result"
    }
   ],
   "source": [
    "new_df[['GCRKR', 'RKUR']].head()"
   ]
  },
  {
   "cell_type": "markdown",
   "metadata": {},
   "source": [
    "\\begin{equation}\n",
    "\\text{Switch \"Does not receive...\" to \"Receive...\" features}\n",
    "\\end{equation}"
   ]
  },
  {
   "cell_type": "markdown",
   "metadata": {},
   "source": [
    "- **Def**: A simple switch between 1s and 0s."
   ]
  },
  {
   "cell_type": "code",
   "execution_count": 379,
   "metadata": {},
   "outputs": [
    {
     "data": {
      "text/plain": [
       "['Does not receive technical support.',\n",
       " 'Does not receive economic support.',\n",
       " 'Does not receive didactic material support.',\n",
       " 'Does not receive furniture and equipment support.',\n",
       " 'Does not receive infrastructure support.',\n",
       " 'Does not receive teacher remuneration support.',\n",
       " 'Does not receive construction material support.',\n",
       " 'Does not receive food support.']"
      ]
     },
     "execution_count": 379,
     "metadata": {},
     "output_type": "execute_result"
    }
   ],
   "source": [
    "list(df.iloc[:10, 16:24].columns)"
   ]
  },
  {
   "cell_type": "code",
   "execution_count": 380,
   "metadata": {},
   "outputs": [],
   "source": [
    "new_df.drop([\n",
    "    'Does not receive technical support.',\n",
    "    'Does not receive economic support.',\n",
    "    'Does not receive didactic material support.',\n",
    "    'Does not receive furniture and equipment support.',\n",
    "    'Does not receive infrastructure support.',\n",
    "    'Does not receive teacher remuneration support.',\n",
    "    'Does not receive construction material support.',\n",
    "    'Does not receive food support.'\n",
    "], inplace=True, axis=1)"
   ]
  },
  {
   "cell_type": "code",
   "execution_count": 381,
   "metadata": {},
   "outputs": [],
   "source": [
    "new_df['Receives technical support'] = df.iloc[:, 16].apply(lambda x: 0 if x == 1 else 1)\n",
    "new_df['Receives economic support'] = df.iloc[:, 17].apply(lambda x: 0 if x == 1 else 1)\n",
    "new_df['Receives didactic material support'] = df.iloc[:, 18].apply(lambda x: 0 if x == 1 else 1)\n",
    "new_df['Receives furniture and equipment support'] = df.iloc[:, 19].apply(lambda x: 0 if x == 1 else 1)\n",
    "new_df['Receives infrastructure support'] = df.iloc[:, 20].apply(lambda x: 0 if x == 1 else 1)\n",
    "new_df['Receives teacher renumeration support'] = df.iloc[:, 21].apply(lambda x: 0 if x == 1 else 1)\n",
    "new_df['Receives construction material support'] = df.iloc[:, 22].apply(lambda x: 0 if x == 1 else 1)\n",
    "new_df['Receives food support'] = df.iloc[:, 23].apply(lambda x: 0 if x == 1 else 1)"
   ]
  },
  {
   "cell_type": "markdown",
   "metadata": {},
   "source": [
    "\\begin{equation}\n",
    "\\text{Total internal funding (TIF)} = \\text{total funding from cafeterias} + \\text{total funding from own activities} \\in \\mathbb{R}\n",
    "\\end{equation}"
   ]
  },
  {
   "cell_type": "markdown",
   "metadata": {},
   "source": [
    "- **Def**: All funding coming from internal operations at the school.\n",
    "- **Assumptions**: We assume \"total funding from own activities\" represents total funding obtained from school's operations."
   ]
  },
  {
   "cell_type": "markdown",
   "metadata": {},
   "source": [
    "\\begin{equation}\n",
    "\\text{Total external funding (TEF)} = \\text{total funding from voluntary contributions} + \\text{total funding from donations} \\in \\mathbb{R}\n",
    "\\end{equation}"
   ]
  },
  {
   "cell_type": "markdown",
   "metadata": {},
   "source": [
    "- **Def**: All funding coming from external operations at the school.\n",
    "- **Assumptions**: We assume its two parameters constitute all external funding to the school."
   ]
  },
  {
   "cell_type": "code",
   "execution_count": 382,
   "metadata": {},
   "outputs": [
    {
     "data": {
      "text/plain": [
       "['Funding: cafeterias.',\n",
       " 'Funding: voluntary contributions.',\n",
       " 'Funding: own activities.',\n",
       " 'Funding: donations.']"
      ]
     },
     "execution_count": 382,
     "metadata": {},
     "output_type": "execute_result"
    }
   ],
   "source": [
    "list(df.iloc[:10, 24:28].columns)"
   ]
  },
  {
   "cell_type": "code",
   "execution_count": 383,
   "metadata": {},
   "outputs": [],
   "source": [
    "new_df.drop(['Funding: cafeterias.', 'Funding: voluntary contributions.', 'Funding: own activities.', 'Funding: donations.'], inplace=True, axis=1)"
   ]
  },
  {
   "cell_type": "code",
   "execution_count": 384,
   "metadata": {},
   "outputs": [],
   "source": [
    "# Remove commas from columns 24 to 27\n",
    "df.iloc[:, 24:28] = df.iloc[:, 24:28].replace(',', '', regex=True)\n",
    "\n",
    "# Make columns 24 to 27 into floats\n",
    "df.iloc[:, 24:28] = df.iloc[:, 24:28].astype(float)"
   ]
  },
  {
   "cell_type": "code",
   "execution_count": 385,
   "metadata": {},
   "outputs": [],
   "source": [
    "def  compute_funding(row):\n",
    "    tif = 0\n",
    "    tef = 0\n",
    "    \n",
    "    if not np.isnan(row.iloc[24]) and not np.isnan(row.iloc[26]):\n",
    "        tif = row.iloc[24] + row.iloc[26]\n",
    "    if not np.isnan(row.iloc[25]) and not np.isnan(row.iloc[27]):\n",
    "        tef = row.iloc[25] + row.iloc[27]\n",
    "    \n",
    "    return pd.Series([tif, tef])"
   ]
  },
  {
   "cell_type": "code",
   "execution_count": 386,
   "metadata": {},
   "outputs": [],
   "source": [
    "new_df[['TIF', 'TEF']] = df.apply(compute_funding, axis=1)"
   ]
  },
  {
   "cell_type": "code",
   "execution_count": 387,
   "metadata": {},
   "outputs": [
    {
     "data": {
      "text/html": [
       "<div>\n",
       "<style scoped>\n",
       "    .dataframe tbody tr th:only-of-type {\n",
       "        vertical-align: middle;\n",
       "    }\n",
       "\n",
       "    .dataframe tbody tr th {\n",
       "        vertical-align: top;\n",
       "    }\n",
       "\n",
       "    .dataframe thead th {\n",
       "        text-align: right;\n",
       "    }\n",
       "</style>\n",
       "<table border=\"1\" class=\"dataframe\">\n",
       "  <thead>\n",
       "    <tr style=\"text-align: right;\">\n",
       "      <th></th>\n",
       "      <th>TIF</th>\n",
       "      <th>TEF</th>\n",
       "    </tr>\n",
       "  </thead>\n",
       "  <tbody>\n",
       "    <tr>\n",
       "      <th>0</th>\n",
       "      <td>4573.89</td>\n",
       "      <td>727338.03</td>\n",
       "    </tr>\n",
       "    <tr>\n",
       "      <th>1</th>\n",
       "      <td>2652.00</td>\n",
       "      <td>0.00</td>\n",
       "    </tr>\n",
       "    <tr>\n",
       "      <th>2</th>\n",
       "      <td>3919.64</td>\n",
       "      <td>2450.50</td>\n",
       "    </tr>\n",
       "    <tr>\n",
       "      <th>3</th>\n",
       "      <td>2000.00</td>\n",
       "      <td>300.00</td>\n",
       "    </tr>\n",
       "    <tr>\n",
       "      <th>4</th>\n",
       "      <td>245.00</td>\n",
       "      <td>0.00</td>\n",
       "    </tr>\n",
       "  </tbody>\n",
       "</table>\n",
       "</div>"
      ],
      "text/plain": [
       "       TIF        TEF\n",
       "0  4573.89  727338.03\n",
       "1  2652.00       0.00\n",
       "2  3919.64    2450.50\n",
       "3  2000.00     300.00\n",
       "4   245.00       0.00"
      ]
     },
     "execution_count": 387,
     "metadata": {},
     "output_type": "execute_result"
    }
   ],
   "source": [
    "new_df[['TIF', 'TEF']].head()"
   ]
  },
  {
   "cell_type": "markdown",
   "metadata": {},
   "source": [
    "\\begin{equation}\n",
    "\\text{Dissability Infrastructure Score (DIS)} = \\text{Has ramps} + \\text{Has handrails} + \\text{Has special bathrooms} \\in \\{0,1,2,3\\}\n",
    "\\end{equation}"
   ]
  },
  {
   "cell_type": "markdown",
   "metadata": {},
   "source": [
    "- **Def**: Captures if dissability infastructure is included in facilities."
   ]
  },
  {
   "cell_type": "code",
   "execution_count": 388,
   "metadata": {},
   "outputs": [
    {
     "data": {
      "text/plain": [
       "['Dissability accomodations: ramp.',\n",
       " 'Dissability accomodations: handrails.',\n",
       " 'Dissability accomodations: special bathrooms.',\n",
       " 'Dissability accomodations: none.']"
      ]
     },
     "execution_count": 388,
     "metadata": {},
     "output_type": "execute_result"
    }
   ],
   "source": [
    "list(df.iloc[:, 45:49].columns)"
   ]
  },
  {
   "cell_type": "code",
   "execution_count": 389,
   "metadata": {},
   "outputs": [],
   "source": [
    "new_df.drop(['Dissability accomodations: ramp.',\n",
    " 'Dissability accomodations: handrails.',\n",
    " 'Dissability accomodations: special bathrooms.',\n",
    " 'Dissability accomodations: none.'] , inplace=True, axis=1)"
   ]
  },
  {
   "cell_type": "code",
   "execution_count": 390,
   "metadata": {},
   "outputs": [],
   "source": [
    "df.iloc[:, 45:49] = df.iloc[:, 45:49].map(lambda x: float(1.0) if x == 'Sí' else float(0.0))"
   ]
  },
  {
   "cell_type": "code",
   "execution_count": 391,
   "metadata": {},
   "outputs": [],
   "source": [
    "new_df['DIS'] = df.apply(lambda x: 0.0 if x.iloc[48] == 0.0 else x.iloc[45] + x.iloc[46] + x.iloc[47], axis=1)"
   ]
  },
  {
   "cell_type": "code",
   "execution_count": 392,
   "metadata": {},
   "outputs": [
    {
     "data": {
      "text/plain": [
       "array([0., 1., 2., 3.])"
      ]
     },
     "execution_count": 392,
     "metadata": {},
     "output_type": "execute_result"
    }
   ],
   "source": [
    "np.unique(new_df['DIS'])"
   ]
  },
  {
   "cell_type": "markdown",
   "metadata": {},
   "source": [
    "\\begin{align}\n",
    "\\text{Total classrooms (TC)} &= \\text{total classrooms used for teaching} \\\\\n",
    "&\\quad + \\text{total classrooms used for purposes other than teaching} \\\\\n",
    "&\\quad + \\text{total classrooms not used} \\\\\n",
    "&\\quad + \\text{total classrooms used for computer labs} \\\\\n",
    "&\\quad + \\text{total classrooms used for temporary classrooms} \\\\\n",
    "&\\quad + \\text{total classrooms used other spaces} \\\\\n",
    "\\in \\mathbb{R}\n",
    "\\end{align}"
   ]
  },
  {
   "cell_type": "markdown",
   "metadata": {},
   "source": [
    "- **Def**: Total number of classrooms in a school\n",
    "- **Assumptions**: We assume there are no other type of classrooms other than the categories above."
   ]
  },
  {
   "cell_type": "markdown",
   "metadata": {},
   "source": [
    "\\begin{equation}\n",
    "\\text{Teaching Classroom Rate (TCR)} = \\frac{\\text{total classrooms used for teaching}}{\\text{total classrooms}} \\in [0,1)\n",
    "\\end{equation}"
   ]
  },
  {
   "cell_type": "markdown",
   "metadata": {},
   "source": [
    "- **Def**: Out of all classrooms, how many are used for teaching."
   ]
  },
  {
   "cell_type": "markdown",
   "metadata": {},
   "source": [
    "\\begin{equation}\n",
    "\\text{Unusued Classroom Rate (UCR)} = \\frac{\\text{total unused classrooms}}{\\text{total classrooms}} \\in [0,1)\n",
    "\\end{equation}"
   ]
  },
  {
   "cell_type": "markdown",
   "metadata": {},
   "source": [
    "- **Def**: Out of all classrooms, how many are not used."
   ]
  },
  {
   "cell_type": "code",
   "execution_count": 393,
   "metadata": {},
   "outputs": [
    {
     "data": {
      "text/plain": [
       "['Amount of classrooms: for teaching.',\n",
       " 'Amount of classrooms: for purposes other than teaching.',\n",
       " 'Amount of classrooms: not used.',\n",
       " 'Amount of classrooms: computer labs.',\n",
       " 'Amount of classrooms: temporary classrooms.',\n",
       " 'Amount of classrooms: other spaces.']"
      ]
     },
     "execution_count": 393,
     "metadata": {},
     "output_type": "execute_result"
    }
   ],
   "source": [
    "list(df.iloc[:, 39:45].columns)"
   ]
  },
  {
   "cell_type": "code",
   "execution_count": 394,
   "metadata": {},
   "outputs": [],
   "source": [
    "new_df.drop(['Amount of classrooms: for teaching.',\n",
    " 'Amount of classrooms: for purposes other than teaching.',\n",
    " 'Amount of classrooms: not used.',\n",
    " 'Amount of classrooms: computer labs.',\n",
    " 'Amount of classrooms: temporary classrooms.',\n",
    " 'Amount of classrooms: other spaces.'], inplace=True, axis=1)"
   ]
  },
  {
   "cell_type": "code",
   "execution_count": 395,
   "metadata": {},
   "outputs": [],
   "source": [
    "def compute_classrooms(row):\n",
    "    TC = row.iloc[39] + row.iloc[40] + row.iloc[41] + row.iloc[42] + row.iloc[43] + row.iloc[44]\n",
    "    TCR = 0.0 if TC == 0 else row.iloc[39] / TC\n",
    "    UCR = 0.0 if TC == 0 else row.iloc[41] / TC\n",
    "    \n",
    "    return pd.Series([TC, TCR, UCR])"
   ]
  },
  {
   "cell_type": "code",
   "execution_count": 396,
   "metadata": {},
   "outputs": [],
   "source": [
    "new_df[['TC', 'TCR', 'UCR']] = df.apply(compute_classrooms, axis=1)"
   ]
  },
  {
   "cell_type": "code",
   "execution_count": 397,
   "metadata": {},
   "outputs": [
    {
     "data": {
      "text/html": [
       "<div>\n",
       "<style scoped>\n",
       "    .dataframe tbody tr th:only-of-type {\n",
       "        vertical-align: middle;\n",
       "    }\n",
       "\n",
       "    .dataframe tbody tr th {\n",
       "        vertical-align: top;\n",
       "    }\n",
       "\n",
       "    .dataframe thead th {\n",
       "        text-align: right;\n",
       "    }\n",
       "</style>\n",
       "<table border=\"1\" class=\"dataframe\">\n",
       "  <thead>\n",
       "    <tr style=\"text-align: right;\">\n",
       "      <th></th>\n",
       "      <th>TC</th>\n",
       "      <th>TCR</th>\n",
       "      <th>UCR</th>\n",
       "    </tr>\n",
       "  </thead>\n",
       "  <tbody>\n",
       "    <tr>\n",
       "      <th>0</th>\n",
       "      <td>19.0</td>\n",
       "      <td>1.000000</td>\n",
       "      <td>0.000000</td>\n",
       "    </tr>\n",
       "    <tr>\n",
       "      <th>1</th>\n",
       "      <td>14.0</td>\n",
       "      <td>0.857143</td>\n",
       "      <td>0.000000</td>\n",
       "    </tr>\n",
       "    <tr>\n",
       "      <th>2</th>\n",
       "      <td>43.0</td>\n",
       "      <td>0.441860</td>\n",
       "      <td>0.023256</td>\n",
       "    </tr>\n",
       "    <tr>\n",
       "      <th>3</th>\n",
       "      <td>12.0</td>\n",
       "      <td>0.333333</td>\n",
       "      <td>0.000000</td>\n",
       "    </tr>\n",
       "    <tr>\n",
       "      <th>4</th>\n",
       "      <td>4.0</td>\n",
       "      <td>0.750000</td>\n",
       "      <td>0.000000</td>\n",
       "    </tr>\n",
       "  </tbody>\n",
       "</table>\n",
       "</div>"
      ],
      "text/plain": [
       "     TC       TCR       UCR\n",
       "0  19.0  1.000000  0.000000\n",
       "1  14.0  0.857143  0.000000\n",
       "2  43.0  0.441860  0.023256\n",
       "3  12.0  0.333333  0.000000\n",
       "4   4.0  0.750000  0.000000"
      ]
     },
     "execution_count": 397,
     "metadata": {},
     "output_type": "execute_result"
    }
   ],
   "source": [
    "new_df[['TC', 'TCR', 'UCR']].head()"
   ]
  },
  {
   "cell_type": "markdown",
   "metadata": {},
   "source": [
    "\\begin{equation}\n",
    "\\text{Computer Class Rate (CCR)} = \\frac{\\text{total students receiving computer classes}}{\\frac{\\text{total students enrolled at beginning of year} + \\text{total students enrolled at end of year}}{2}} \\in \\mathbb{R}\n",
    "\\end{equation}"
   ]
  },
  {
   "cell_type": "markdown",
   "metadata": {},
   "source": [
    "- **Def**: Out of all students, how many are in computer classes within the school.\n",
    "- **Assumptions**: No assumptions, but note that might be greater than 1 because we are using average of enrolled students at start and end of year. We use this because we do not know if measurement of total students receiving computer classes was taken at the start or end of year."
   ]
  },
  {
   "cell_type": "code",
   "execution_count": 398,
   "metadata": {},
   "outputs": [
    {
     "data": {
      "text/plain": [
       "['Does the school have computers for student use?',\n",
       " 'Amount of students receiving computer classes.']"
      ]
     },
     "execution_count": 398,
     "metadata": {},
     "output_type": "execute_result"
    }
   ],
   "source": [
    "list(df.iloc[:, 49:51].columns)"
   ]
  },
  {
   "cell_type": "code",
   "execution_count": 399,
   "metadata": {},
   "outputs": [],
   "source": [
    "new_df.drop(['Does the school have computers for student use?',\n",
    " 'Amount of students receiving computer classes.'], inplace=True, axis=1)"
   ]
  },
  {
   "cell_type": "code",
   "execution_count": 400,
   "metadata": {},
   "outputs": [],
   "source": [
    "# Make columns numeric\n",
    "df.iloc[:, 50] = pd.to_numeric(df.iloc[:, 50], errors='coerce')\n",
    "df['Total enrolled students at the end of the year'] = pd.to_numeric(df['Total enrolled students at the end of the year'], errors='coerce')\n",
    "df['Total initially enrolled students at the beginning of the year'] = pd.to_numeric(df['Total initially enrolled students at the beginning of the year'], errors='coerce')"
   ]
  },
  {
   "cell_type": "code",
   "execution_count": 401,
   "metadata": {},
   "outputs": [],
   "source": [
    "def compute_computers(row):\n",
    "    CCR = 0.0\n",
    "    avg_enrollment = (row['Total initially enrolled students at the beginning of the year'] + row['Total enrolled students at the end of the year']) / 2\n",
    "\n",
    "    if row.iloc[49] == 'No' or avg_enrollment == 0.0:\n",
    "        CCR = 0.0\n",
    "    else:\n",
    "        CCR = row.iloc[50] / avg_enrollment\n",
    "\n",
    "    return CCR"
   ]
  },
  {
   "cell_type": "code",
   "execution_count": 402,
   "metadata": {},
   "outputs": [],
   "source": [
    "new_df['CCR'] = df.apply(compute_computers, axis=1)"
   ]
  },
  {
   "cell_type": "code",
   "execution_count": 403,
   "metadata": {},
   "outputs": [],
   "source": [
    "# Convert nan to 0\n",
    "new_df['CCR'] = new_df['CCR'].fillna(0)"
   ]
  },
  {
   "cell_type": "code",
   "execution_count": 404,
   "metadata": {},
   "outputs": [
    {
     "data": {
      "text/plain": [
       "0    0.000000\n",
       "1    0.000000\n",
       "2    0.320484\n",
       "3    0.956522\n",
       "4    1.023256\n",
       "Name: CCR, dtype: float64"
      ]
     },
     "execution_count": 404,
     "metadata": {},
     "output_type": "execute_result"
    }
   ],
   "source": [
    "new_df['CCR'].head()"
   ]
  },
  {
   "cell_type": "markdown",
   "metadata": {},
   "source": [
    "\\begin{equation}\n",
    "\\text{Good condition technology rate (GCTR)} = \\frac{\\text{total tech devices in good condition}}{\\text{total tech devices in good condition} + \\text{total tech devices in bad condition}} \\in [0,1]\n",
    "\\end{equation}"
   ]
  },
  {
   "cell_type": "markdown",
   "metadata": {},
   "source": [
    "- **Def**: Out of all tech devices owned, how many are in good condition. A rate of 1 means that all tech devices are in good condition, which is better.\n",
    "- **Assumptions**: We assume the denominator represents all tech devices owned by the school."
   ]
  },
  {
   "cell_type": "markdown",
   "metadata": {},
   "source": [
    "\\begin{equation}\n",
    "\\text{Tech device usage rate (TDUR)} = \\frac{\\text{total tech devices used by students}}{\\text{total tech devices in good condition} + \\text{total tech devices in bad condition} + \\text{total rented tech devices}} \\in [0,1]\n",
    "\\end{equation}"
   ]
  },
  {
   "cell_type": "markdown",
   "metadata": {},
   "source": [
    "- **Def**: Out of all tech devices possessed, how many are used by students. A rate of 1 means that all tech devices are used by students, which is better.\n",
    "- **Assumptions**: We assume the denominator represents all tech devices possesed by the school."
   ]
  },
  {
   "cell_type": "code",
   "execution_count": 405,
   "metadata": {},
   "outputs": [
    {
     "data": {
      "text/plain": [
       "['Desktop computers: good condition.',\n",
       " 'Desktop computers: bad condition.',\n",
       " 'Desktop computers: rented.',\n",
       " 'Desktop computers: used by students.',\n",
       " 'Laptops: good condition.',\n",
       " 'Laptops: bad condition.',\n",
       " 'Laptops: rented.',\n",
       " 'Laptops: used by students.',\n",
       " 'Printers: good condition.',\n",
       " 'Printers: bad condition.',\n",
       " 'Printers: rented.',\n",
       " 'Printers: used by students.',\n",
       " 'Scanner: good condition.',\n",
       " 'Scanner: bad condition.',\n",
       " 'Scanner: rented.',\n",
       " 'Scanner: used by students.',\n",
       " 'Projector: good condition.',\n",
       " 'Projector: bad condition.',\n",
       " 'Projector: rented.',\n",
       " 'Projector: used by students.',\n",
       " 'Television: good condition.',\n",
       " 'Television: bad condition.',\n",
       " 'Television: rented.',\n",
       " 'Television: used by students.',\n",
       " 'Recorder: good condition.',\n",
       " 'Recorder: bad condition.',\n",
       " 'Recorder: rented.',\n",
       " 'Recorder: used by students.',\n",
       " 'DVD: good condition.',\n",
       " 'DVD: bad condition.',\n",
       " 'DV: rented.',\n",
       " 'DVD: used by students.',\n",
       " 'Microphone: good condition.',\n",
       " 'Microphone: bad condition.',\n",
       " 'Microphone: rented.',\n",
       " 'Microphone: used by students.',\n",
       " 'Speakers: good condition.',\n",
       " 'Speakers: bad condition.',\n",
       " 'Speakers: rented.',\n",
       " 'Speakers: used by students.',\n",
       " 'Camera: good condition.',\n",
       " 'Camera: bad condition.',\n",
       " 'Camera: rented.',\n",
       " 'Camera: used by students.',\n",
       " 'Video camera: good condition.',\n",
       " 'Video camera: bad condition.',\n",
       " 'Video camera: rented.',\n",
       " 'Video camera: used by students.',\n",
       " 'Web camera: good condition.',\n",
       " 'Web camera: bad condition.',\n",
       " 'Web camera: rented.',\n",
       " 'Web camera: used by students.',\n",
       " 'Photocopier: good condition.',\n",
       " 'Photocopier: bad condition.',\n",
       " 'Photocopier: rented.',\n",
       " 'Photocopier: used by students.']"
      ]
     },
     "execution_count": 405,
     "metadata": {},
     "output_type": "execute_result"
    }
   ],
   "source": [
    "list(df.iloc[:, 52:108].columns)"
   ]
  },
  {
   "cell_type": "code",
   "execution_count": 406,
   "metadata": {},
   "outputs": [],
   "source": [
    "new_df.drop(\n",
    "    ['Desktop computers: good condition.',\n",
    " 'Desktop computers: bad condition.',\n",
    " 'Desktop computers: rented.',\n",
    " 'Desktop computers: used by students.',\n",
    " 'Laptops: good condition.',\n",
    " 'Laptops: bad condition.',\n",
    " 'Laptops: rented.',\n",
    " 'Laptops: used by students.',\n",
    " 'Printers: good condition.',\n",
    " 'Printers: bad condition.',\n",
    " 'Printers: rented.',\n",
    " 'Printers: used by students.',\n",
    " 'Scanner: good condition.',\n",
    " 'Scanner: bad condition.',\n",
    " 'Scanner: rented.',\n",
    " 'Scanner: used by students.',\n",
    " 'Projector: good condition.',\n",
    " 'Projector: bad condition.',\n",
    " 'Projector: rented.',\n",
    " 'Projector: used by students.',\n",
    " 'Television: good condition.',\n",
    " 'Television: bad condition.',\n",
    " 'Television: rented.',\n",
    " 'Television: used by students.',\n",
    " 'Recorder: good condition.',\n",
    " 'Recorder: bad condition.',\n",
    " 'Recorder: rented.',\n",
    " 'Recorder: used by students.',\n",
    " 'DVD: good condition.',\n",
    " 'DVD: bad condition.',\n",
    " 'DV: rented.',\n",
    " 'DVD: used by students.',\n",
    " 'Microphone: good condition.',\n",
    " 'Microphone: bad condition.',\n",
    " 'Microphone: rented.',\n",
    " 'Microphone: used by students.',\n",
    " 'Speakers: good condition.',\n",
    " 'Speakers: bad condition.',\n",
    " 'Speakers: rented.',\n",
    " 'Speakers: used by students.',\n",
    " 'Camera: good condition.',\n",
    " 'Camera: bad condition.',\n",
    " 'Camera: rented.',\n",
    " 'Camera: used by students.',\n",
    " 'Video camera: good condition.',\n",
    " 'Video camera: bad condition.',\n",
    " 'Video camera: rented.',\n",
    " 'Video camera: used by students.',\n",
    " 'Web camera: good condition.',\n",
    " 'Web camera: bad condition.',\n",
    " 'Web camera: rented.',\n",
    " 'Web camera: used by students.',\n",
    " 'Photocopier: good condition.',\n",
    " 'Photocopier: bad condition.',\n",
    " 'Photocopier: rented.',\n",
    " 'Photocopier: used by students.'], inplace=True, axis=1)"
   ]
  },
  {
   "cell_type": "code",
   "execution_count": 407,
   "metadata": {},
   "outputs": [],
   "source": [
    "def compute_gctr_tdur(row):\n",
    "    total_good = 0\n",
    "    total_bad = 0\n",
    "    total_rented = 0\n",
    "    total_student = 0\n",
    "\n",
    "    for j in range(52, 108, 4):\n",
    "        if not np.isnan(row.iloc[j]):\n",
    "            total_good += row.iloc[j]\n",
    "        if not np.isnan(row.iloc[j+1]):\n",
    "            total_bad += row.iloc[j+1]\n",
    "        if not np.isnan(row.iloc[j+2]):\n",
    "            total_rented += row.iloc[j+2]\n",
    "        if not np.isnan(row.iloc[j+3]):\n",
    "            total_student += row.iloc[j+3]\n",
    "    \n",
    "    good_bad = total_good + total_bad\n",
    "    all_td = (total_good + total_bad + total_rented)\n",
    "\n",
    "    gctr = 0 if good_bad == 0 else total_good / good_bad\n",
    "    tdur = 0 if all_td == 0 else total_student / all_td\n",
    "    \n",
    "    return pd.Series([gctr, tdur]) "
   ]
  },
  {
   "cell_type": "code",
   "execution_count": 408,
   "metadata": {},
   "outputs": [],
   "source": [
    "new_df[['GCTR', 'TDUR']] = df.apply(compute_gctr_tdur, axis=1)"
   ]
  },
  {
   "cell_type": "code",
   "execution_count": 409,
   "metadata": {},
   "outputs": [
    {
     "data": {
      "text/html": [
       "<div>\n",
       "<style scoped>\n",
       "    .dataframe tbody tr th:only-of-type {\n",
       "        vertical-align: middle;\n",
       "    }\n",
       "\n",
       "    .dataframe tbody tr th {\n",
       "        vertical-align: top;\n",
       "    }\n",
       "\n",
       "    .dataframe thead th {\n",
       "        text-align: right;\n",
       "    }\n",
       "</style>\n",
       "<table border=\"1\" class=\"dataframe\">\n",
       "  <thead>\n",
       "    <tr style=\"text-align: right;\">\n",
       "      <th></th>\n",
       "      <th>GCTR</th>\n",
       "      <th>TDUR</th>\n",
       "    </tr>\n",
       "  </thead>\n",
       "  <tbody>\n",
       "    <tr>\n",
       "      <th>0</th>\n",
       "      <td>0.641975</td>\n",
       "      <td>0.234568</td>\n",
       "    </tr>\n",
       "    <tr>\n",
       "      <th>1</th>\n",
       "      <td>0.760870</td>\n",
       "      <td>0.152174</td>\n",
       "    </tr>\n",
       "    <tr>\n",
       "      <th>2</th>\n",
       "      <td>0.956522</td>\n",
       "      <td>0.826087</td>\n",
       "    </tr>\n",
       "    <tr>\n",
       "      <th>3</th>\n",
       "      <td>0.950000</td>\n",
       "      <td>0.000000</td>\n",
       "    </tr>\n",
       "    <tr>\n",
       "      <th>4</th>\n",
       "      <td>0.545455</td>\n",
       "      <td>0.545455</td>\n",
       "    </tr>\n",
       "  </tbody>\n",
       "</table>\n",
       "</div>"
      ],
      "text/plain": [
       "       GCTR      TDUR\n",
       "0  0.641975  0.234568\n",
       "1  0.760870  0.152174\n",
       "2  0.956522  0.826087\n",
       "3  0.950000  0.000000\n",
       "4  0.545455  0.545455"
      ]
     },
     "execution_count": 409,
     "metadata": {},
     "output_type": "execute_result"
    }
   ],
   "source": [
    "new_df[['GCTR', 'TDUR']].head()"
   ]
  },
  {
   "cell_type": "code",
   "execution_count": 410,
   "metadata": {},
   "outputs": [
    {
     "data": {
      "text/plain": [
       "['School ID',\n",
       " 'School Name',\n",
       " 'School District',\n",
       " 'Sector',\n",
       " 'If private, does it receive subsidy?',\n",
       " 'Administrative Body',\n",
       " 'Zone',\n",
       " 'Department Code',\n",
       " 'Department Name',\n",
       " 'Municipality Code',\n",
       " 'Municipality Name',\n",
       " 'Canton Name',\n",
       " 'Hamlet Name',\n",
       " 'Address',\n",
       " 'Does the school belong to an indigenous community?',\n",
       " 'Who provided the data?',\n",
       " 'Do you own your facilities?',\n",
       " 'Water source: internal pipeline.',\n",
       " 'Water source: river, lake, spring.',\n",
       " 'Water source: rainwater.',\n",
       " 'Water source: public sink.',\n",
       " 'Water source: well.',\n",
       " 'Water source: pipe.',\n",
       " 'Does the school have electrical installations?',\n",
       " 'If it posseses electrical installations, do they work?',\n",
       " 'Does the school have sanitary services?',\n",
       " 'If it posseses sanitary services, are they separated by gender?',\n",
       " 'Does the school have internet service?',\n",
       " 'Does the school have a library?',\n",
       " 'Does the school have a computer center?',\n",
       " 'Does the school have a science lab?',\n",
       " 'Does the school have an educational support classroom?',\n",
       " 'Does the school have a soccer field?',\n",
       " 'Does the school have a basketball court?',\n",
       " 'Does the school have an English lab?',\n",
       " 'Does the school have an agricultural farm?',\n",
       " 'Does the school have an administrative area?',\n",
       " \"Does the school have a teachers' room?\",\n",
       " 'Does the school have a clinic?',\n",
       " 'Does the school have industrial workshops?',\n",
       " 'Does the school have a health clinic?',\n",
       " 'Does the school have a multipurpose room?',\n",
       " 'Does the school have a recreational space?',\n",
       " 'Does the school have a dining room?',\n",
       " 'Does the school have a warehouse?',\n",
       " 'Does the school have a kitchen?',\n",
       " 'Does the school have a kitchen-warehouse?',\n",
       " 'Did you know of pregnant students in the school?',\n",
       " 'Did you take actions to prevent pregnancies in adolescents?',\n",
       " 'Pregnancy prevention coordination: Department of Education.',\n",
       " 'Pregnancy prevention coordination: Health Unit.',\n",
       " 'Pregnancy prevention coordination: ISSS.',\n",
       " 'Pregnancy prevention coordination: Municipal Government.',\n",
       " 'Pregnancy prevention coordination: NGOs.',\n",
       " 'Does the school have non-teaching staff?',\n",
       " 'Total initially enrolled students at the beginning of the year',\n",
       " 'Total repeating students',\n",
       " 'Total overage students',\n",
       " 'Total passing students',\n",
       " 'Total failed students',\n",
       " 'Total enrolled students at the end of the year',\n",
       " 'Total dropouts',\n",
       " 'Total departmental homicides',\n",
       " 'Percentage of homicides based on departmental population',\n",
       " 'Total municipal homicides',\n",
       " 'Percentage of homicides based on municipal population',\n",
       " 'GCRKR',\n",
       " 'RKUR',\n",
       " 'Receives technical support',\n",
       " 'Receives economic support',\n",
       " 'Receives didactic material support',\n",
       " 'Receives furniture and equipment support',\n",
       " 'Receives infrastructure support',\n",
       " 'Receives teacher renumeration support',\n",
       " 'Receives construction material support',\n",
       " 'Receives food support',\n",
       " 'TIF',\n",
       " 'TEF',\n",
       " 'DIS',\n",
       " 'TC',\n",
       " 'TCR',\n",
       " 'UCR',\n",
       " 'CCR',\n",
       " 'GCTR',\n",
       " 'TDUR']"
      ]
     },
     "execution_count": 410,
     "metadata": {},
     "output_type": "execute_result"
    }
   ],
   "source": [
    "list(new_df.columns)"
   ]
  },
  {
   "cell_type": "markdown",
   "metadata": {},
   "source": [
    "# __Cleaning features__"
   ]
  },
  {
   "cell_type": "markdown",
   "metadata": {},
   "source": [
    "Get Bernoulli for Yes/No"
   ]
  },
  {
   "cell_type": "code",
   "execution_count": 411,
   "metadata": {},
   "outputs": [],
   "source": [
    "def bernoulli_to_numeric(x):\n",
    "    if x == 'Sí':\n",
    "        return 1.0\n",
    "    elif x == 'No':\n",
    "        return 0.0\n",
    "    else:\n",
    "        return x"
   ]
  },
  {
   "cell_type": "code",
   "execution_count": 412,
   "metadata": {},
   "outputs": [],
   "source": [
    "new_df['If private, does it receive subsidy?'] = new_df['If private, does it receive subsidy?'].map(bernoulli_to_numeric)\n",
    "new_df['Do you own your facilities?'] = new_df['Do you own your facilities?'].map(bernoulli_to_numeric)\n",
    "new_df['Water source: internal pipeline.'] = new_df['Water source: internal pipeline.'].map(bernoulli_to_numeric)\n",
    "new_df['Water source: pipe.'] = new_df['Water source: pipe.'].map(bernoulli_to_numeric)\n",
    "new_df['Water source: public sink.'] = new_df['Water source: public sink.'].map(bernoulli_to_numeric)\n",
    "new_df['Water source: rainwater.'] = new_df['Water source: rainwater.'].map(bernoulli_to_numeric)\n",
    "new_df['Water source: river, lake, spring.'] = new_df['Water source: river, lake, spring.'].map(bernoulli_to_numeric)\n",
    "new_df['Water source: well.'] = new_df['Water source: well.'].map(bernoulli_to_numeric)\n",
    "new_df['If it posseses electrical installations, do they work?']\n",
    "new_df['If it posseses sanitary services, are they separated by gender?']\n",
    "\n",
    "for column in new_df.columns:\n",
    "    if 'Does the school have' in column or 'Did you' in column or 'Pregnancy prevention':\n",
    "        new_df[column] = new_df[column].map(bernoulli_to_numeric)"
   ]
  },
  {
   "cell_type": "markdown",
   "metadata": {},
   "source": [
    "Convert numbers to floats"
   ]
  },
  {
   "cell_type": "code",
   "execution_count": 413,
   "metadata": {},
   "outputs": [],
   "source": [
    "# Convert columns 55 and above to floats\n",
    "# If there is a comma in a cell, remove it\n",
    "for column in new_df.columns[55:]:\n",
    "    new_df[column] = new_df[column].replace(',', '', regex=True)\n",
    "    new_df[column] = pd.to_numeric(new_df[column], errors='coerce')"
   ]
  },
  {
   "cell_type": "markdown",
   "metadata": {},
   "source": [
    "Drop unnecessary columns"
   ]
  },
  {
   "cell_type": "code",
   "execution_count": 414,
   "metadata": {},
   "outputs": [],
   "source": [
    "new_df.drop(\n",
    "    ['Total municipal homicides', 'Total departmental homicides'],\n",
    "    inplace=True, axis=1)"
   ]
  },
  {
   "cell_type": "markdown",
   "metadata": {},
   "source": [
    "Convert ints to floats"
   ]
  },
  {
   "cell_type": "code",
   "execution_count": 415,
   "metadata": {},
   "outputs": [],
   "source": [
    "# Go through each column. If majority type is int, convert to float\n",
    "for column in new_df.columns:\n",
    "    majority_type = new_df[column].apply(lambda x: type(x)).value_counts().idxmax()\n",
    "    if majority_type == int:\n",
    "        new_df[column] = new_df[column].astype(float)"
   ]
  },
  {
   "cell_type": "markdown",
   "metadata": {},
   "source": [
    "Pass absolute value to floats"
   ]
  },
  {
   "cell_type": "code",
   "execution_count": 416,
   "metadata": {},
   "outputs": [],
   "source": [
    "# Go through each column if float, do absolute value\n",
    "for column in new_df.columns:\n",
    "    if new_df[column].dtype == float:\n",
    "        new_df[column] = new_df[column].abs()"
   ]
  },
  {
   "cell_type": "code",
   "execution_count": 417,
   "metadata": {},
   "outputs": [
    {
     "data": {
      "text/plain": [
       "['School ID',\n",
       " 'School Name',\n",
       " 'School District',\n",
       " 'Sector',\n",
       " 'If private, does it receive subsidy?',\n",
       " 'Administrative Body',\n",
       " 'Zone',\n",
       " 'Department Code',\n",
       " 'Department Name',\n",
       " 'Municipality Code',\n",
       " 'Municipality Name',\n",
       " 'Canton Name',\n",
       " 'Hamlet Name',\n",
       " 'Address',\n",
       " 'Does the school belong to an indigenous community?',\n",
       " 'Who provided the data?',\n",
       " 'Do you own your facilities?',\n",
       " 'Water source: internal pipeline.',\n",
       " 'Water source: river, lake, spring.',\n",
       " 'Water source: rainwater.',\n",
       " 'Water source: public sink.',\n",
       " 'Water source: well.',\n",
       " 'Water source: pipe.',\n",
       " 'Does the school have electrical installations?',\n",
       " 'If it posseses electrical installations, do they work?',\n",
       " 'Does the school have sanitary services?',\n",
       " 'If it posseses sanitary services, are they separated by gender?',\n",
       " 'Does the school have internet service?',\n",
       " 'Does the school have a library?',\n",
       " 'Does the school have a computer center?',\n",
       " 'Does the school have a science lab?',\n",
       " 'Does the school have an educational support classroom?',\n",
       " 'Does the school have a soccer field?',\n",
       " 'Does the school have a basketball court?',\n",
       " 'Does the school have an English lab?',\n",
       " 'Does the school have an agricultural farm?',\n",
       " 'Does the school have an administrative area?',\n",
       " \"Does the school have a teachers' room?\",\n",
       " 'Does the school have a clinic?',\n",
       " 'Does the school have industrial workshops?',\n",
       " 'Does the school have a health clinic?',\n",
       " 'Does the school have a multipurpose room?',\n",
       " 'Does the school have a recreational space?',\n",
       " 'Does the school have a dining room?',\n",
       " 'Does the school have a warehouse?',\n",
       " 'Does the school have a kitchen?',\n",
       " 'Does the school have a kitchen-warehouse?',\n",
       " 'Did you know of pregnant students in the school?',\n",
       " 'Did you take actions to prevent pregnancies in adolescents?',\n",
       " 'Pregnancy prevention coordination: Department of Education.',\n",
       " 'Pregnancy prevention coordination: Health Unit.',\n",
       " 'Pregnancy prevention coordination: ISSS.',\n",
       " 'Pregnancy prevention coordination: Municipal Government.',\n",
       " 'Pregnancy prevention coordination: NGOs.',\n",
       " 'Does the school have non-teaching staff?',\n",
       " 'Total initially enrolled students at the beginning of the year',\n",
       " 'Total repeating students',\n",
       " 'Total overage students',\n",
       " 'Total passing students',\n",
       " 'Total failed students',\n",
       " 'Total enrolled students at the end of the year',\n",
       " 'Total dropouts',\n",
       " 'Percentage of homicides based on departmental population',\n",
       " 'Percentage of homicides based on municipal population',\n",
       " 'GCRKR',\n",
       " 'RKUR',\n",
       " 'Receives technical support',\n",
       " 'Receives economic support',\n",
       " 'Receives didactic material support',\n",
       " 'Receives furniture and equipment support',\n",
       " 'Receives infrastructure support',\n",
       " 'Receives teacher renumeration support',\n",
       " 'Receives construction material support',\n",
       " 'Receives food support',\n",
       " 'TIF',\n",
       " 'TEF',\n",
       " 'DIS',\n",
       " 'TC',\n",
       " 'TCR',\n",
       " 'UCR',\n",
       " 'CCR',\n",
       " 'GCTR',\n",
       " 'TDUR']"
      ]
     },
     "execution_count": 417,
     "metadata": {},
     "output_type": "execute_result"
    }
   ],
   "source": [
    "list(new_df.columns)"
   ]
  },
  {
   "cell_type": "code",
   "execution_count": 418,
   "metadata": {},
   "outputs": [],
   "source": [
    "new_df['Dropout rate'] = new_df['Total dropouts'] / new_df['Total initially enrolled students at the beginning of the year']"
   ]
  },
  {
   "cell_type": "code",
   "execution_count": 419,
   "metadata": {},
   "outputs": [],
   "source": [
    "new_df.drop('Total dropouts', inplace=True, axis=1)"
   ]
  },
  {
   "cell_type": "code",
   "execution_count": 420,
   "metadata": {},
   "outputs": [
    {
     "data": {
      "text/plain": [
       "0    0.049142\n",
       "1    0.020599\n",
       "2    0.093660\n",
       "3    0.053763\n",
       "4    0.045455\n",
       "Name: Dropout rate, dtype: float64"
      ]
     },
     "execution_count": 420,
     "metadata": {},
     "output_type": "execute_result"
    }
   ],
   "source": [
    "new_df['Dropout rate'].head()"
   ]
  },
  {
   "cell_type": "markdown",
   "metadata": {},
   "source": [
    "# __Final Clean Data Shape__"
   ]
  },
  {
   "cell_type": "code",
   "execution_count": 421,
   "metadata": {},
   "outputs": [
    {
     "data": {
      "text/plain": [
       "(6025, 83)"
      ]
     },
     "execution_count": 421,
     "metadata": {},
     "output_type": "execute_result"
    }
   ],
   "source": [
    "new_df.shape"
   ]
  },
  {
   "cell_type": "code",
   "execution_count": 422,
   "metadata": {},
   "outputs": [],
   "source": [
    "# Save new_df to a CSV file in interim\n",
    "new_df.to_csv('../data/processed/data.csv', index=False)"
   ]
  }
 ],
 "metadata": {
  "kernelspec": {
   "display_name": "hw3",
   "language": "python",
   "name": "python3"
  },
  "language_info": {
   "codemirror_mode": {
    "name": "ipython",
    "version": 3
   },
   "file_extension": ".py",
   "mimetype": "text/x-python",
   "name": "python",
   "nbconvert_exporter": "python",
   "pygments_lexer": "ipython3",
   "version": "3.11.9"
  }
 },
 "nbformat": 4,
 "nbformat_minor": 2
}
