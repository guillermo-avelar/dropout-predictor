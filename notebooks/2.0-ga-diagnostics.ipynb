{
 "cells": [
  {
   "cell_type": "markdown",
   "metadata": {},
   "source": [
    "# __Imports__"
   ]
  },
  {
   "cell_type": "code",
   "execution_count": 1,
   "metadata": {},
   "outputs": [],
   "source": [
    "import pandas as pd\n",
    "import numpy as np\n",
    "import matplotlib.pyplot as plt\n",
    "import seaborn as sns"
   ]
  },
  {
   "cell_type": "markdown",
   "metadata": {},
   "source": [
    "# __Data__"
   ]
  },
  {
   "cell_type": "code",
   "execution_count": 2,
   "metadata": {},
   "outputs": [],
   "source": [
    "# Load the data\n",
    "df = pd.read_csv('../data/processed/data.csv')"
   ]
  },
  {
   "cell_type": "code",
   "execution_count": 4,
   "metadata": {},
   "outputs": [
    {
     "data": {
      "text/plain": [
       "['School ID',\n",
       " 'School Name',\n",
       " 'School District',\n",
       " 'Sector',\n",
       " 'If private, does it receive subsidy?',\n",
       " 'Administrative Body',\n",
       " 'Zone',\n",
       " 'Department Code',\n",
       " 'Department Name',\n",
       " 'Municipality Code',\n",
       " 'Municipality Name',\n",
       " 'Canton Name',\n",
       " 'Hamlet Name',\n",
       " 'Address',\n",
       " 'Does the school belong to an indigenous community?',\n",
       " 'Who provided the data?',\n",
       " 'Do you own your facilities?',\n",
       " 'Water source: internal pipeline.',\n",
       " 'Water source: river, lake, spring.',\n",
       " 'Water source: rainwater.',\n",
       " 'Water source: public sink.',\n",
       " 'Water source: well.',\n",
       " 'Water source: pipe.',\n",
       " 'Does the school have electrical installations?',\n",
       " 'If it posseses electrical installations, do they work?',\n",
       " 'Does the school have sanitary services?',\n",
       " 'If it posseses sanitary services, are they separated by gender?',\n",
       " 'Does the school have internet service?',\n",
       " 'Does the school have a library?',\n",
       " 'Does the school have a computer center?',\n",
       " 'Does the school have a science lab?',\n",
       " 'Does the school have an educational support classroom?',\n",
       " 'Does the school have a soccer field?',\n",
       " 'Does the school have a basketball court?',\n",
       " 'Does the school have an English lab?',\n",
       " 'Does the school have an agricultural farm?',\n",
       " 'Does the school have an administrative area?',\n",
       " \"Does the school have a teachers' room?\",\n",
       " 'Does the school have a clinic?',\n",
       " 'Does the school have industrial workshops?',\n",
       " 'Does the school have a health clinic?',\n",
       " 'Does the school have a multipurpose room?',\n",
       " 'Does the school have a recreational space?',\n",
       " 'Does the school have a dining room?',\n",
       " 'Does the school have a warehouse?',\n",
       " 'Does the school have a kitchen?',\n",
       " 'Does the school have a kitchen-warehouse?',\n",
       " 'Did you know of pregnant students in the school?',\n",
       " 'Did you take actions to prevent pregnancies in adolescents?',\n",
       " 'Pregnancy prevention coordination: Department of Education.',\n",
       " 'Pregnancy prevention coordination: Health Unit.',\n",
       " 'Pregnancy prevention coordination: ISSS.',\n",
       " 'Pregnancy prevention coordination: Municipal Government.',\n",
       " 'Pregnancy prevention coordination: NGOs.',\n",
       " 'Does the school have non-teaching staff?',\n",
       " 'Total initially enrolled students at the beginning of the year',\n",
       " 'Total repeating students',\n",
       " 'Total overage students',\n",
       " 'Total passing students',\n",
       " 'Total failed students',\n",
       " 'Total enrolled students at the end of the year',\n",
       " 'Percentage of homicides based on departmental population',\n",
       " 'Percentage of homicides based on municipal population',\n",
       " 'GCRKR',\n",
       " 'RKUR',\n",
       " 'Receives technical support',\n",
       " 'Receives economic support',\n",
       " 'Receives didactic material support',\n",
       " 'Receives furniture and equipment support',\n",
       " 'Receives infrastructure support',\n",
       " 'Receives teacher renumeration support',\n",
       " 'Receives construction material support',\n",
       " 'Receives food support',\n",
       " 'TIF',\n",
       " 'TEF',\n",
       " 'DIS',\n",
       " 'TC',\n",
       " 'TCR',\n",
       " 'UCR',\n",
       " 'CCR',\n",
       " 'GCTR',\n",
       " 'TDUR',\n",
       " 'Dropout rate']"
      ]
     },
     "execution_count": 4,
     "metadata": {},
     "output_type": "execute_result"
    }
   ],
   "source": [
    "list(df.columns)"
   ]
  },
  {
   "cell_type": "code",
   "execution_count": null,
   "metadata": {},
   "outputs": [],
   "source": [
    "# Get identifying columns\n",
    "identifiers = ['School ID',\n",
    " 'School Name',\n",
    " 'School District',]"
   ]
  }
 ],
 "metadata": {
  "kernelspec": {
   "display_name": "hw3",
   "language": "python",
   "name": "python3"
  },
  "language_info": {
   "codemirror_mode": {
    "name": "ipython",
    "version": 3
   },
   "file_extension": ".py",
   "mimetype": "text/x-python",
   "name": "python",
   "nbconvert_exporter": "python",
   "pygments_lexer": "ipython3",
   "version": "3.11.9"
  }
 },
 "nbformat": 4,
 "nbformat_minor": 2
}
